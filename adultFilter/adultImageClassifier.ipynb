{
 "cells": [
  {
   "cell_type": "code",
   "execution_count": 1,
   "metadata": {},
   "outputs": [
    {
     "name": "stdout",
     "output_type": "stream",
     "text": [
      "/home/ronnie8888/Documents/ENJOY/adultFilter/NudeNet\n"
     ]
    }
   ],
   "source": [
    "cd NudeNet"
   ]
  },
  {
   "cell_type": "code",
   "execution_count": 2,
   "metadata": {},
   "outputs": [
    {
     "name": "stderr",
     "output_type": "stream",
     "text": [
      "Using TensorFlow backend.\n"
     ]
    },
    {
     "name": "stdout",
     "output_type": "stream",
     "text": [
      "WARNING:tensorflow:From /home/ronnie8888/.virtualenvs/enjoy/lib/python3.6/site-packages/keras/backend/tensorflow_backend.py:517: The name tf.placeholder is deprecated. Please use tf.compat.v1.placeholder instead.\n",
      "\n",
      "WARNING:tensorflow:From /home/ronnie8888/.virtualenvs/enjoy/lib/python3.6/site-packages/keras/backend/tensorflow_backend.py:4138: The name tf.random_uniform is deprecated. Please use tf.random.uniform instead.\n",
      "\n",
      "WARNING:tensorflow:From /home/ronnie8888/.virtualenvs/enjoy/lib/python3.6/site-packages/keras/backend/tensorflow_backend.py:245: The name tf.get_default_graph is deprecated. Please use tf.compat.v1.get_default_graph instead.\n",
      "\n",
      "WARNING:tensorflow:From /home/ronnie8888/.virtualenvs/enjoy/lib/python3.6/site-packages/keras/backend/tensorflow_backend.py:174: The name tf.get_default_session is deprecated. Please use tf.compat.v1.get_default_session instead.\n",
      "\n",
      "WARNING:tensorflow:From /home/ronnie8888/.virtualenvs/enjoy/lib/python3.6/site-packages/keras/backend/tensorflow_backend.py:181: The name tf.ConfigProto is deprecated. Please use tf.compat.v1.ConfigProto instead.\n",
      "\n",
      "WARNING:tensorflow:From /home/ronnie8888/.virtualenvs/enjoy/lib/python3.6/site-packages/keras/backend/tensorflow_backend.py:186: The name tf.Session is deprecated. Please use tf.compat.v1.Session instead.\n",
      "\n",
      "WARNING:tensorflow:From /home/ronnie8888/.virtualenvs/enjoy/lib/python3.6/site-packages/keras/backend/tensorflow_backend.py:190: The name tf.global_variables is deprecated. Please use tf.compat.v1.global_variables instead.\n",
      "\n",
      "WARNING:tensorflow:From /home/ronnie8888/.virtualenvs/enjoy/lib/python3.6/site-packages/keras/backend/tensorflow_backend.py:199: The name tf.is_variable_initialized is deprecated. Please use tf.compat.v1.is_variable_initialized instead.\n",
      "\n",
      "WARNING:tensorflow:From /home/ronnie8888/.virtualenvs/enjoy/lib/python3.6/site-packages/keras/backend/tensorflow_backend.py:206: The name tf.variables_initializer is deprecated. Please use tf.compat.v1.variables_initializer instead.\n",
      "\n",
      "WARNING:tensorflow:From /home/ronnie8888/.virtualenvs/enjoy/lib/python3.6/site-packages/keras/backend/tensorflow_backend.py:1834: The name tf.nn.fused_batch_norm is deprecated. Please use tf.compat.v1.nn.fused_batch_norm instead.\n",
      "\n",
      "WARNING:tensorflow:From /home/ronnie8888/.virtualenvs/enjoy/lib/python3.6/site-packages/keras/backend/tensorflow_backend.py:133: The name tf.placeholder_with_default is deprecated. Please use tf.compat.v1.placeholder_with_default instead.\n",
      "\n",
      "WARNING:tensorflow:From /home/ronnie8888/.virtualenvs/enjoy/lib/python3.6/site-packages/keras/backend/tensorflow_backend.py:3976: The name tf.nn.max_pool is deprecated. Please use tf.nn.max_pool2d instead.\n",
      "\n",
      "WARNING:tensorflow:From /home/ronnie8888/.virtualenvs/enjoy/lib/python3.6/site-packages/keras/optimizers.py:790: The name tf.train.Optimizer is deprecated. Please use tf.compat.v1.train.Optimizer instead.\n",
      "\n",
      "WARNING:tensorflow:From /home/ronnie8888/.virtualenvs/enjoy/lib/python3.6/site-packages/keras/backend/tensorflow_backend.py:3295: The name tf.log is deprecated. Please use tf.math.log instead.\n",
      "\n",
      "WARNING:tensorflow:From /home/ronnie8888/.virtualenvs/enjoy/lib/python3.6/site-packages/tensorflow_core/python/ops/math_grad.py:1424: where (from tensorflow.python.ops.array_ops) is deprecated and will be removed in a future version.\n",
      "Instructions for updating:\n",
      "Use tf.where in 2.0, which has the same broadcast rule as np.where\n",
      "WARNING:tensorflow:From /home/ronnie8888/.virtualenvs/enjoy/lib/python3.6/site-packages/keras/backend/tensorflow_backend.py:986: The name tf.assign_add is deprecated. Please use tf.compat.v1.assign_add instead.\n",
      "\n",
      "WARNING:tensorflow:From /home/ronnie8888/.virtualenvs/enjoy/lib/python3.6/site-packages/keras/backend/tensorflow_backend.py:973: The name tf.assign is deprecated. Please use tf.compat.v1.assign instead.\n",
      "\n",
      "WARNING:tensorflow:From /home/ronnie8888/.virtualenvs/enjoy/lib/python3.6/site-packages/keras/backend/tensorflow_backend.py:4115: The name tf.random_normal is deprecated. Please use tf.random.normal instead.\n",
      "\n",
      "WARNING:tensorflow:From /home/ronnie8888/.virtualenvs/enjoy/lib/python3.6/site-packages/keras/backend/tensorflow_backend.py:4185: The name tf.truncated_normal is deprecated. Please use tf.random.truncated_normal instead.\n",
      "\n",
      "WARNING:tensorflow:From /home/ronnie8888/.virtualenvs/enjoy/lib/python3.6/site-packages/keras_retinanet/backend/tensorflow_backend.py:68: The name tf.image.resize_images is deprecated. Please use tf.image.resize instead.\n",
      "\n"
     ]
    },
    {
     "name": "stderr",
     "output_type": "stream",
     "text": [
      "/home/ronnie8888/.virtualenvs/enjoy/lib/python3.6/site-packages/keras/engine/saving.py:292: UserWarning: No training configuration found in save file: the model was *not* compiled. Compile it manually.\n",
      "  warnings.warn('No training configuration found in save file: '\n"
     ]
    }
   ],
   "source": [
    "from nudenet import NudeClassifier\n",
    "classifier = NudeClassifier()\n",
    "from nudenet import NudeDetector\n",
    "detector = NudeDetector()"
   ]
  },
  {
   "cell_type": "code",
   "execution_count": 5,
   "metadata": {},
   "outputs": [
    {
     "name": "stdout",
     "output_type": "stream",
     "text": [
      "/home/ronnie8888/Documents/ENJOY/adultFilter\n"
     ]
    }
   ],
   "source": [
    "cd .."
   ]
  },
  {
   "cell_type": "code",
   "execution_count": 56,
   "metadata": {},
   "outputs": [
    {
     "name": "stdout",
     "output_type": "stream",
     "text": [
      "/home/ronnie8888/Documents/ENJOY/adultFilter/adultPhotos_to_check_manually\n"
     ]
    }
   ],
   "source": [
    "cd adultPhotos_to_check_manually"
   ]
  },
  {
   "cell_type": "code",
   "execution_count": 6,
   "metadata": {},
   "outputs": [
    {
     "name": "stdout",
     "output_type": "stream",
     "text": [
      "{'index.jpeg': {'safe': 0.0003641045, 'unsafe': 0.99963593}}\n",
      "[{'box': [41, 80, 117, 115], 'score': 0.84391797, 'label': 'F_BREAST'}, {'box': [91, 166, 114, 199], 'score': 0.6706419, 'label': 'F_GENITALIA'}]\n"
     ]
    }
   ],
   "source": [
    "print(classifier.classify('index.jpeg'))\n",
    "print(detector.detect('index.jpeg'))"
   ]
  },
  {
   "cell_type": "code",
   "execution_count": 7,
   "metadata": {},
   "outputs": [
    {
     "name": "stdout",
     "output_type": "stream",
     "text": [
      "{'index1.jpeg': {'safe': 0.15707304, 'unsafe': 0.8429269}}\n",
      "[{'box': [218, 115, 254, 165], 'score': 0.8153218, 'label': 'M_GENITALIA'}]\n"
     ]
    }
   ],
   "source": [
    "print(classifier.classify('index1.jpeg'))\n",
    "print(detector.detect('index1.jpeg'))"
   ]
  },
  {
   "cell_type": "code",
   "execution_count": 8,
   "metadata": {},
   "outputs": [
    {
     "name": "stdout",
     "output_type": "stream",
     "text": [
      "{'index2.jpg': {'safe': 0.001980924, 'unsafe': 0.9980191}}\n",
      "[{'box': [331, 190, 408, 255], 'score': 0.6349666, 'label': 'F_GENITALIA'}]\n"
     ]
    }
   ],
   "source": [
    "print(classifier.classify('index2.jpg'))\n",
    "print(detector.detect('index2.jpg'))"
   ]
  },
  {
   "cell_type": "code",
   "execution_count": 9,
   "metadata": {},
   "outputs": [
    {
     "name": "stdout",
     "output_type": "stream",
     "text": [
      "{'index3.jpeg': {'unsafe': 0.31646422, 'safe': 0.68353575}}\n",
      "[]\n"
     ]
    }
   ],
   "source": [
    "print(classifier.classify('index3.jpeg'))\n",
    "print(detector.detect('index3.jpeg'))"
   ]
  },
  {
   "cell_type": "code",
   "execution_count": 10,
   "metadata": {},
   "outputs": [
    {
     "name": "stdout",
     "output_type": "stream",
     "text": [
      "{'index4.jpg': {'safe': 0.0012209795, 'unsafe': 0.998779}}\n",
      "[{'box': [109, 306, 368, 529], 'score': 0.73806405, 'label': 'BELLY'}]\n"
     ]
    }
   ],
   "source": [
    "print(classifier.classify('index4.jpg'))\n",
    "print(detector.detect('index4.jpg'))"
   ]
  },
  {
   "cell_type": "code",
   "execution_count": 11,
   "metadata": {},
   "outputs": [
    {
     "name": "stdout",
     "output_type": "stream",
     "text": [
      "{'overlay.jpeg': {'safe': 0.04130496, 'unsafe': 0.958695}}\n",
      "[]\n"
     ]
    }
   ],
   "source": [
    "print(classifier.classify('overlay.jpeg'))\n",
    "print(detector.detect('overlay.jpeg'))"
   ]
  },
  {
   "cell_type": "code",
   "execution_count": 12,
   "metadata": {},
   "outputs": [
    {
     "name": "stdout",
     "output_type": "stream",
     "text": [
      "{'sluty.jpg': {'safe': 0.022272225, 'unsafe': 0.9777278}}\n",
      "[]\n"
     ]
    }
   ],
   "source": [
    "print(classifier.classify('sluty.jpg'))\n",
    "print(detector.detect('sluty.jpg'))"
   ]
  },
  {
   "cell_type": "code",
   "execution_count": 13,
   "metadata": {},
   "outputs": [
    {
     "name": "stdout",
     "output_type": "stream",
     "text": [
      "{'sexy.webp': {'safe': 0.043604463, 'unsafe': 0.9563955}}\n",
      "[]\n"
     ]
    }
   ],
   "source": [
    "print(classifier.classify('sexy.webp'))\n",
    "print(detector.detect('sexy.webp'))"
   ]
  },
  {
   "cell_type": "code",
   "execution_count": 14,
   "metadata": {},
   "outputs": [
    {
     "name": "stdout",
     "output_type": "stream",
     "text": [
      "{'sexy1.webp': {'safe': 0.28318495, 'unsafe': 0.716815}}\n",
      "[{'box': [199, 131, 394, 283], 'score': 0.65164846, 'label': 'M_GENITALIA'}]\n"
     ]
    }
   ],
   "source": [
    "print(classifier.classify('sexy1.webp'))\n",
    "print(detector.detect('sexy1.webp'))"
   ]
  },
  {
   "cell_type": "code",
   "execution_count": 15,
   "metadata": {},
   "outputs": [
    {
     "name": "stdout",
     "output_type": "stream",
     "text": [
      "{'sexy2.jpg': {'safe': 0.13640112, 'unsafe': 0.8635988}}\n",
      "[]\n"
     ]
    }
   ],
   "source": [
    "print(classifier.classify('sexy2.jpg'))\n",
    "print(detector.detect('sexy2.jpg'))"
   ]
  },
  {
   "cell_type": "code",
   "execution_count": 16,
   "metadata": {},
   "outputs": [
    {
     "name": "stdout",
     "output_type": "stream",
     "text": [
      "{'sexy3.webp': {'unsafe': 0.050595146, 'safe': 0.94940484}}\n",
      "[]\n"
     ]
    }
   ],
   "source": [
    "print(classifier.classify('sexy3.webp'))\n",
    "print(detector.detect('sexy3.webp'))"
   ]
  },
  {
   "cell_type": "code",
   "execution_count": 17,
   "metadata": {},
   "outputs": [
    {
     "name": "stdout",
     "output_type": "stream",
     "text": [
      "{'sexy4.webp': {'safe': 0.0025114098, 'unsafe': 0.9974886}}\n",
      "[{'box': [230, 430, 373, 559], 'score': 0.70323217, 'label': 'BELLY'}]\n"
     ]
    }
   ],
   "source": [
    "print(classifier.classify('sexy4.webp'))\n",
    "print(detector.detect('sexy4.webp'))"
   ]
  },
  {
   "cell_type": "code",
   "execution_count": 18,
   "metadata": {},
   "outputs": [
    {
     "name": "stdout",
     "output_type": "stream",
     "text": [
      "{'sexy5.webp': {'safe': 0.006823758, 'unsafe': 0.9931763}}\n",
      "[{'box': [231, 570, 404, 672], 'score': 0.76243997, 'label': 'BELLY'}]\n"
     ]
    }
   ],
   "source": [
    "print(classifier.classify('sexy5.webp'))\n",
    "print(detector.detect('sexy5.webp'))"
   ]
  },
  {
   "cell_type": "code",
   "execution_count": 19,
   "metadata": {},
   "outputs": [
    {
     "name": "stdout",
     "output_type": "stream",
     "text": [
      "{'sexy6.webp': {'unsafe': 0.2717329, 'safe': 0.72826713}}\n",
      "[{'box': [292, 391, 421, 473], 'score': 0.7939255, 'label': 'BUTTOCKS'}, {'box': [343, 202, 413, 270], 'score': 0.63504434, 'label': 'BELLY'}]\n"
     ]
    }
   ],
   "source": [
    "print(classifier.classify('sexy6.webp'))\n",
    "print(detector.detect('sexy6.webp'))"
   ]
  },
  {
   "cell_type": "code",
   "execution_count": 20,
   "metadata": {},
   "outputs": [
    {
     "name": "stdout",
     "output_type": "stream",
     "text": [
      "{'sexy7.webp': {'safe': 0.421458, 'unsafe': 0.578542}}\n",
      "[]\n"
     ]
    }
   ],
   "source": [
    "print(classifier.classify('sexy7.webp'))\n",
    "print(detector.detect('sexy7.webp'))"
   ]
  },
  {
   "cell_type": "code",
   "execution_count": 21,
   "metadata": {},
   "outputs": [
    {
     "name": "stdout",
     "output_type": "stream",
     "text": [
      "{'sexy8.webp': {'safe': 0.33780074, 'unsafe': 0.66219926}}\n",
      "[]\n"
     ]
    }
   ],
   "source": [
    "print(classifier.classify('sexy8.webp'))\n",
    "print(detector.detect('sexy8.webp'))"
   ]
  },
  {
   "cell_type": "code",
   "execution_count": 22,
   "metadata": {},
   "outputs": [
    {
     "name": "stdout",
     "output_type": "stream",
     "text": [
      "{'sexy9.webp': {'unsafe': 0.08109047, 'safe': 0.9189096}}\n",
      "[]\n"
     ]
    }
   ],
   "source": [
    "print(classifier.classify('sexy9.webp'))\n",
    "print(detector.detect('sexy9.webp'))"
   ]
  },
  {
   "cell_type": "code",
   "execution_count": 23,
   "metadata": {},
   "outputs": [
    {
     "name": "stdout",
     "output_type": "stream",
     "text": [
      "{'sexy10.webp': {'safe': 0.09996391, 'unsafe': 0.9000361}}\n",
      "[]\n"
     ]
    }
   ],
   "source": [
    "print(classifier.classify('sexy10.webp'))\n",
    "print(detector.detect('sexy10.webp'))"
   ]
  },
  {
   "cell_type": "code",
   "execution_count": 24,
   "metadata": {},
   "outputs": [
    {
     "name": "stdout",
     "output_type": "stream",
     "text": [
      "{'sexy11.webp': {'unsafe': 0.08130316, 'safe': 0.9186968}}\n",
      "[{'box': [190, 217, 302, 294], 'score': 0.7035432, 'label': 'M_BREAST'}]\n"
     ]
    }
   ],
   "source": [
    "print(classifier.classify('sexy11.webp'))\n",
    "print(detector.detect('sexy11.webp'))"
   ]
  },
  {
   "cell_type": "code",
   "execution_count": 25,
   "metadata": {},
   "outputs": [
    {
     "name": "stdout",
     "output_type": "stream",
     "text": [
      "{'sexy12.webp': {'safe': 0.035762977, 'unsafe': 0.9642371}}\n",
      "[]\n"
     ]
    }
   ],
   "source": [
    "print(classifier.classify('sexy12.webp'))\n",
    "print(detector.detect('sexy12.webp'))"
   ]
  },
  {
   "cell_type": "code",
   "execution_count": 26,
   "metadata": {},
   "outputs": [
    {
     "name": "stdout",
     "output_type": "stream",
     "text": [
      "{'sexy13.webp': {'safe': 0.04767409, 'unsafe': 0.9523259}}\n",
      "[]\n"
     ]
    }
   ],
   "source": [
    "print(classifier.classify('sexy13.webp'))\n",
    "print(detector.detect('sexy13.webp'))"
   ]
  },
  {
   "cell_type": "code",
   "execution_count": 27,
   "metadata": {},
   "outputs": [
    {
     "name": "stdout",
     "output_type": "stream",
     "text": [
      "{'sexy14.webp': {'safe': 0.04974511, 'unsafe': 0.9502549}}\n",
      "[]\n"
     ]
    }
   ],
   "source": [
    "print(classifier.classify('sexy14.webp'))\n",
    "print(detector.detect('sexy14.webp'))"
   ]
  },
  {
   "cell_type": "code",
   "execution_count": 28,
   "metadata": {},
   "outputs": [
    {
     "name": "stdout",
     "output_type": "stream",
     "text": [
      "{'prok.jpeg': {'unsafe': 0.44559598, 'safe': 0.5544041}}\n",
      "[]\n"
     ]
    }
   ],
   "source": [
    "print(classifier.classify('prok.jpeg'))\n",
    "print(detector.detect('prok.jpeg'))"
   ]
  },
  {
   "cell_type": "code",
   "execution_count": 30,
   "metadata": {},
   "outputs": [
    {
     "name": "stdout",
     "output_type": "stream",
     "text": [
      "{'prok.jpg': {'unsafe': 0.05331296, 'safe': 0.94668704}}\n",
      "[]\n"
     ]
    }
   ],
   "source": [
    "print(classifier.classify('prok.jpg'))\n",
    "print(detector.detect('prok.jpg'))"
   ]
  },
  {
   "cell_type": "code",
   "execution_count": 34,
   "metadata": {},
   "outputs": [
    {
     "name": "stdout",
     "output_type": "stream",
     "text": [
      "{'prok1.jpg': {'unsafe': 0.09648197, 'safe': 0.903518}}\n",
      "[]\n"
     ]
    }
   ],
   "source": [
    "print(classifier.classify('prok1.jpg'))\n",
    "print(detector.detect('prok1.jpg'))"
   ]
  },
  {
   "cell_type": "code",
   "execution_count": 35,
   "metadata": {},
   "outputs": [
    {
     "name": "stdout",
     "output_type": "stream",
     "text": [
      "{'sexy.jpg': {'safe': 0.027210873, 'unsafe': 0.97278917}}\n",
      "[]\n"
     ]
    }
   ],
   "source": [
    "print(classifier.classify('sexy.jpg'))\n",
    "print(detector.detect('sexy.jpg'))"
   ]
  },
  {
   "cell_type": "code",
   "execution_count": 36,
   "metadata": {},
   "outputs": [
    {
     "name": "stdout",
     "output_type": "stream",
     "text": [
      "{'org.jpeg': {'safe': 0.20103331, 'unsafe': 0.7989667}}\n",
      "[]\n"
     ]
    }
   ],
   "source": [
    "print(classifier.classify('org.jpeg'))\n",
    "print(detector.detect('org.jpeg'))"
   ]
  },
  {
   "cell_type": "code",
   "execution_count": 38,
   "metadata": {},
   "outputs": [
    {
     "name": "stdout",
     "output_type": "stream",
     "text": [
      "{'org.png': {'unsafe': 0.43242452, 'safe': 0.5675755}}\n",
      "[]\n"
     ]
    }
   ],
   "source": [
    "print(classifier.classify('org.png'))\n",
    "print(detector.detect('org.png'))"
   ]
  },
  {
   "cell_type": "code",
   "execution_count": 39,
   "metadata": {},
   "outputs": [
    {
     "name": "stdout",
     "output_type": "stream",
     "text": [
      "{'org1.jpeg': {'unsafe': 0.056718707, 'safe': 0.9432813}}\n",
      "[]\n"
     ]
    }
   ],
   "source": [
    "print(classifier.classify('org1.jpeg'))\n",
    "print(detector.detect('org1.jpeg'))"
   ]
  },
  {
   "cell_type": "code",
   "execution_count": 41,
   "metadata": {},
   "outputs": [
    {
     "name": "stdout",
     "output_type": "stream",
     "text": [
      "{'org2.jpg': {'unsafe': 0.31626335, 'safe': 0.6837366}}\n",
      "[]\n"
     ]
    }
   ],
   "source": [
    "print(classifier.classify('org2.jpg'))\n",
    "print(detector.detect('org2.jpg'))"
   ]
  },
  {
   "cell_type": "code",
   "execution_count": 43,
   "metadata": {},
   "outputs": [
    {
     "name": "stdout",
     "output_type": "stream",
     "text": [
      "{'org4.jpg': {'safe': 0.0021816636, 'unsafe': 0.99781835}}\n",
      "[]\n"
     ]
    }
   ],
   "source": [
    "print(classifier.classify('org4.jpg'))\n",
    "print(detector.detect('org4.jpg'))"
   ]
  },
  {
   "cell_type": "code",
   "execution_count": 44,
   "metadata": {},
   "outputs": [
    {
     "name": "stdout",
     "output_type": "stream",
     "text": [
      "{'org5.jpeg': {'unsafe': 0.31392747, 'safe': 0.6860725}}\n",
      "[]\n"
     ]
    }
   ],
   "source": [
    "print(classifier.classify('org5.jpeg'))\n",
    "print(detector.detect('org5.jpeg'))"
   ]
  },
  {
   "cell_type": "code",
   "execution_count": 45,
   "metadata": {},
   "outputs": [
    {
     "name": "stdout",
     "output_type": "stream",
     "text": [
      "{'org6.jpeg': {'unsafe': 0.11107024, 'safe': 0.8889298}}\n",
      "[]\n"
     ]
    }
   ],
   "source": [
    "print(classifier.classify('org6.jpeg'))\n",
    "print(detector.detect('org6.jpeg'))"
   ]
  },
  {
   "cell_type": "code",
   "execution_count": null,
   "metadata": {},
   "outputs": [],
   "source": [
    "print(classifier.classify('org.jpeg'))\n",
    "print(detector.detect('org.jpeg'))"
   ]
  },
  {
   "cell_type": "code",
   "execution_count": 46,
   "metadata": {},
   "outputs": [
    {
     "name": "stdout",
     "output_type": "stream",
     "text": [
      "{'check.jpg': {'safe': 0.18788044, 'unsafe': 0.81211954}}\n",
      "[]\n"
     ]
    }
   ],
   "source": [
    "print(classifier.classify('check.jpg'))\n",
    "print(detector.detect('check.jpg'))"
   ]
  },
  {
   "cell_type": "code",
   "execution_count": 47,
   "metadata": {},
   "outputs": [
    {
     "name": "stdout",
     "output_type": "stream",
     "text": [
      "{'check1\\\\.jpg': {'unsafe': 0.036483984, 'safe': 0.963516}}\n",
      "[{'box': [542, 563, 631, 670], 'score': 0.7755991, 'label': 'F_BREAST'}]\n"
     ]
    }
   ],
   "source": [
    "print(classifier.classify('check1\\.jpg'))\n",
    "print(detector.detect('check1\\.jpg'))"
   ]
  },
  {
   "cell_type": "code",
   "execution_count": 48,
   "metadata": {},
   "outputs": [
    {
     "name": "stdout",
     "output_type": "stream",
     "text": [
      "{'check2.jpg': {'unsafe': 0.29220238, 'safe': 0.70779765}}\n",
      "[{'box': [410, 960, 642, 1096], 'score': 0.6232104, 'label': 'BUTTOCKS'}]\n"
     ]
    }
   ],
   "source": [
    "print(classifier.classify('check2.jpg'))\n",
    "print(detector.detect('check2.jpg'))"
   ]
  },
  {
   "cell_type": "code",
   "execution_count": 49,
   "metadata": {},
   "outputs": [
    {
     "name": "stdout",
     "output_type": "stream",
     "text": [
      "{'check4.jpg': {'unsafe': 0.04934977, 'safe': 0.9506502}}\n",
      "[]\n"
     ]
    }
   ],
   "source": [
    "print(classifier.classify('check4.jpg'))\n",
    "print(detector.detect('check4.jpg'))"
   ]
  },
  {
   "cell_type": "code",
   "execution_count": 50,
   "metadata": {},
   "outputs": [
    {
     "name": "stdout",
     "output_type": "stream",
     "text": [
      "{'check6.jpg': {'unsafe': 0.08979437, 'safe': 0.9102056}}\n",
      "[]\n"
     ]
    }
   ],
   "source": [
    "print(classifier.classify('check6.jpg'))\n",
    "print(detector.detect('check6.jpg'))"
   ]
  },
  {
   "cell_type": "code",
   "execution_count": 51,
   "metadata": {},
   "outputs": [
    {
     "name": "stdout",
     "output_type": "stream",
     "text": [
      "{'check7.jpg': {'unsafe': 0.04149547, 'safe': 0.9585045}}\n",
      "[]\n"
     ]
    }
   ],
   "source": [
    "print(classifier.classify('check7.jpg'))\n",
    "print(detector.detect('check7.jpg'))"
   ]
  },
  {
   "cell_type": "code",
   "execution_count": 53,
   "metadata": {},
   "outputs": [
    {
     "name": "stdout",
     "output_type": "stream",
     "text": [
      "{'safe.jpeg': {'unsafe': 0.0070890333, 'safe': 0.9929109}}\n",
      "[]\n"
     ]
    }
   ],
   "source": [
    "print(classifier.classify('safe.jpeg'))\n",
    "print(detector.detect('safe.jpeg'))"
   ]
  },
  {
   "cell_type": "code",
   "execution_count": 55,
   "metadata": {},
   "outputs": [
    {
     "name": "stdout",
     "output_type": "stream",
     "text": [
      "{'safe3.jpg': {'unsafe': 0.005753778, 'safe': 0.9942462}}\n",
      "[]\n"
     ]
    }
   ],
   "source": [
    "print(classifier.classify('safe3.jpg'))\n",
    "print(detector.detect('safe3.jpg'))"
   ]
  },
  {
   "cell_type": "code",
   "execution_count": null,
   "metadata": {},
   "outputs": [],
   "source": []
  }
 ],
 "metadata": {
  "kernelspec": {
   "display_name": "Python 3",
   "language": "python",
   "name": "python3"
  },
  "language_info": {
   "codemirror_mode": {
    "name": "ipython",
    "version": 3
   },
   "file_extension": ".py",
   "mimetype": "text/x-python",
   "name": "python",
   "nbconvert_exporter": "python",
   "pygments_lexer": "ipython3",
   "version": "3.6.9"
  }
 },
 "nbformat": 4,
 "nbformat_minor": 4
}
